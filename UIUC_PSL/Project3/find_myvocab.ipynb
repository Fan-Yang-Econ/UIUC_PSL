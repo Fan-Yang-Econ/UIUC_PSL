{
 "cells": [
  {
   "cell_type": "code",
   "execution_count": 1,
   "id": "revised-livestock",
   "metadata": {},
   "outputs": [],
   "source": [
    "import os\n",
    "import re\n",
    "\n",
    "import pandas as pd\n",
    "from bs4 import BeautifulSoup\n",
    "from nltk.corpus import stopwords\n",
    "from sklearn.feature_extraction.text import CountVectorizer\n",
    "from sklearn.linear_model import LogisticRegression\n",
    "import numpy as np\n",
    "from sklearn.model_selection import GridSearchCV"
   ]
  },
  {
   "cell_type": "code",
   "execution_count": 2,
   "id": "fifth-polish",
   "metadata": {},
   "outputs": [],
   "source": [
    "FOLDER = '/Users/fanyang/Dropbox/uiuc/cs598/UIUC_SPL/UIUC_PSL/Project3/'\n",
    "data = 'train_0' + '.csv'\n",
    "df_train = pd.read_csv(os.path.join(FOLDER, data))"
   ]
  },
  {
   "cell_type": "markdown",
   "id": "sophisticated-patio",
   "metadata": {},
   "source": [
    "## Convert review to words with following treatment\n",
    "- remove html\n",
    "- remove non-letters\n",
    "- convert to lower case\n",
    "- remove stop word (stop word from package nltk)"
   ]
  },
  {
   "cell_type": "code",
   "execution_count": 3,
   "id": "harmful-module",
   "metadata": {},
   "outputs": [],
   "source": [
    "def review_to_words(raw_review):\n",
    "    # 1. Remove HTML\n",
    "    review_text = BeautifulSoup(raw_review).get_text()\n",
    "    # 2. Remove non-letters\n",
    "    letters_only = re.sub(\"[^a-zA-Z]\", \" \", review_text)\n",
    "    # 3. Convert to lower case, split into individual words\n",
    "    words = letters_only.lower().split()\n",
    "    stops = set(stopwords.words(\"english\"))\n",
    "    # 4. Remove stop words\n",
    "    meaningful_words = [w for w in words if not w in stops]\n",
    "    # 4. Join the words back into one string separated by space,\n",
    "    # and return the result.\n",
    "    return (\" \".join(meaningful_words))"
   ]
  },
  {
   "cell_type": "code",
   "execution_count": 4,
   "id": "exotic-portsmouth",
   "metadata": {},
   "outputs": [],
   "source": [
    "num_reviews = df_train['review'].size\n",
    "ini_clean_train_reviews = []\n",
    "for j in range(num_reviews):\n",
    "    ini_clean_train_reviews.append(review_to_words(df_train[\"review\"][j]))"
   ]
  },
  {
   "cell_type": "markdown",
   "id": "metric-cholesterol",
   "metadata": {},
   "source": [
    "## Convert word to vector\n",
    "- with 1-4 gram\n",
    "- keep top 30k words by frequency."
   ]
  },
  {
   "cell_type": "code",
   "execution_count": null,
   "id": "boring-generation",
   "metadata": {},
   "outputs": [],
   "source": [
    "train_vectorizer = CountVectorizer(analyzer=\"word\",\n",
    "                                   tokenizer=None,\n",
    "                                   preprocessor=None,\n",
    "                                   stop_words=None,\n",
    "                                   ngram_range=(1, 4),\n",
    "                                   max_features=30000\n",
    "                                   )\n",
    "\n",
    "ini_train_data_features = train_vectorizer.fit_transform(ini_clean_train_reviews)\n",
    "ini_train_data_features = ini_train_data_features.toarray()\n",
    "vocab = train_vectorizer.get_feature_names()\n",
    "features = pd.DataFrame(vocab, columns=['features'])"
   ]
  },
  {
   "cell_type": "markdown",
   "id": "abstract-offset",
   "metadata": {},
   "source": [
    "## Word selection approach 1 - run lasso to select words\n",
    "\n",
    "- This approach selected 2126 words, so we decided to explore other approaches."
   ]
  },
  {
   "cell_type": "code",
   "execution_count": 8,
   "id": "caring-terminal",
   "metadata": {},
   "outputs": [],
   "source": [
    "X = ini_train_data_features\n",
    "y = df_train['sentiment']\n",
    "\n",
    "# cross validation for alpha selection\n",
    "lasso = LogisticRegression(penalty='l1', solver='liblinear')\n",
    "alphas = np.logspace(-1, 0, 10)\n",
    "tuned_parameters = [{'C': alphas}]\n",
    "n_folds = 5\n",
    "clf = GridSearchCV(lasso, tuned_parameters, cv=n_folds, refit=False, scoring='roc_auc')\n",
    "clf.fit(X, y)\n",
    "# clf.cv_results_['mean_test_score']\n",
    "best_alpha = clf.best_params_['C']\n",
    "# print(best_alpha)\n",
    "lasso_model = LogisticRegression(penalty='l1', solver='liblinear', C=best_alpha)\n",
    "lasso_model.fit(X, y)\n",
    "df_model_coef = pd.DataFrame(lasso_model.coef_.reshape(-1, ), columns=['coef']).sort_values('coef', ascending=False)\n",
    "lasso_var = df_model_coef[abs(df_model_coef['coef']) > 0].index.tolist()\n",
    "lasso_vocab = features.loc[lasso_var, :]['features'].tolist()"
   ]
  },
  {
   "cell_type": "code",
   "execution_count": 13,
   "id": "parliamentary-klein",
   "metadata": {},
   "outputs": [],
   "source": [
    "with open(os.path.join(FOLDER, 'myvocab_lasso.txt'), '+w') as f:\n",
    "    f.write('\\n'.join(lasso_vocab))"
   ]
  },
  {
   "cell_type": "markdown",
   "id": "lonely-format",
   "metadata": {},
   "source": [
    "## Approach 2 - run two sample t-test to select words\n",
    "We selected two set of words: top1000 and top2000 based on the test value (absolute value), both lead to similar performance (AUC ~0.94)"
   ]
  },
  {
   "cell_type": "code",
   "execution_count": null,
   "id": "funded-republican",
   "metadata": {},
   "outputs": [],
   "source": [
    "mean1 = np.mean(ini_train_data_features[y == 1, :], axis=0)\n",
    "mean2 = np.mean(ini_train_data_features[y == 0, :], axis=0)\n",
    "n1 = y.sum()\n",
    "n2 = len(y) - n1\n",
    "var1 = np.var(ini_train_data_features[y == 1, :], axis=0)\n",
    "var2 = np.var(ini_train_data_features[y == 0, :], axis=0)\n",
    "t_num = mean1 - mean2\n",
    "t_den = np.sqrt(var1 / n1 + var2 / n2)\n",
    "t_result = t_num / t_den\n",
    "abs_result = np.abs(t_result)\n",
    "df_result = pd.DataFrame(zip(t_result, abs_result), columns=['t_test', 'abs_value']).sort_values('abs_value', ascending=False)"
   ]
  },
  {
   "cell_type": "code",
   "execution_count": 17,
   "id": "welcome-banks",
   "metadata": {},
   "outputs": [],
   "source": [
    "df_result.to_csv(FOLDER + 't_test_result.csv')"
   ]
  },
  {
   "cell_type": "code",
   "execution_count": 19,
   "id": "broke-confidentiality",
   "metadata": {},
   "outputs": [],
   "source": [
    "word_id = df_result.iloc[:2000].index.tolist()\n",
    "# pos_id =df_result.loc[word_id,][df_result.loc[word_id,]['t_test']>0].index.tolist()\n",
    "# neg_id =df_result.loc[word_id,][df_result.loc[word_id,]['t_test']<0].index.tolist()\n",
    "word_id_1000 = df_result.iloc[:1000].index.tolist()\n",
    "t_test_2000 = features.loc[word_id, :]['features'].tolist()\n",
    "t_test_1000 = features.loc[word_id_1000, :]['features'].tolist()"
   ]
  },
  {
   "cell_type": "code",
   "execution_count": 26,
   "id": "alien-jackson",
   "metadata": {},
   "outputs": [],
   "source": [
    "with open(os.path.join(FOLDER, 'myvocab_t_test2000.txt'), '+w') as f:\n",
    "    f.write('\\n'.join(t_test_2000))\n",
    "with open(os.path.join(FOLDER, 'myvocab_t_test1000.txt'), '+w') as f:\n",
    "    f.write('\\n'.join(t_test_1000))"
   ]
  },
  {
   "cell_type": "markdown",
   "id": "artificial-fetish",
   "metadata": {},
   "source": [
    "## Approach3 - find words that are both selected by lasso and t-test\n",
    "Less than 1000 words are selected and performance is comparable to approach 2. So this is the final word list we selected"
   ]
  },
  {
   "cell_type": "code",
   "execution_count": 27,
   "id": "simplified-publication",
   "metadata": {},
   "outputs": [
    {
     "data": {
      "text/plain": [
       "866"
      ]
     },
     "execution_count": 27,
     "metadata": {},
     "output_type": "execute_result"
    }
   ],
   "source": [
    "lasso_t2000 = list(set(word_id) & set(lasso_var))\n",
    "with open(os.path.join(FOLDER, 'myvocab.txt'), '+w') as f:\n",
    "    f.write('\\n'.join(lasso_t2000))\n",
    "len(lasso_t2000)"
   ]
  }
 ],
 "metadata": {
  "kernelspec": {
   "display_name": "Python 3",
   "language": "python",
   "name": "python3"
  },
  "language_info": {
   "codemirror_mode": {
    "name": "ipython",
    "version": 3
   },
   "file_extension": ".py",
   "mimetype": "text/x-python",
   "name": "python",
   "nbconvert_exporter": "python",
   "pygments_lexer": "ipython3",
   "version": "3.9.1"
  }
 },
 "nbformat": 4,
 "nbformat_minor": 5
}